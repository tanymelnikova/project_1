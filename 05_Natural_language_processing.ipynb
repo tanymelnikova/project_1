{
 "cells": [
  {
   "cell_type": "markdown",
   "metadata": {
    "slideshow": {
     "slide_type": "slide"
    }
   },
   "source": [
    "# 05. Natural Language Processing"
   ]
  },
  {
   "cell_type": "markdown",
   "metadata": {
    "slideshow": {
     "slide_type": "fragment"
    }
   },
   "source": [
    "Сегодня мы с вами все же добрались до самого интересного -- автоматической обработки естественного языка."
   ]
  },
  {
   "cell_type": "markdown",
   "metadata": {
    "slideshow": {
     "slide_type": "slide"
    }
   },
   "source": [
    "## 1. Токенизация"
   ]
  },
  {
   "cell_type": "code",
   "execution_count": 14,
   "metadata": {},
   "outputs": [],
   "source": [
    "from nltk.tokenize import word_tokenize\n",
    "import re"
   ]
  },
  {
   "cell_type": "code",
   "execution_count": 15,
   "metadata": {},
   "outputs": [],
   "source": [
    "text = \"\"\"Привет, друзья! Сегодня в галлерее 11.12 в USERTAG открывается выставка нашего друга художника USERTAG. \n",
    "Вокруг нашей песни “1999” Слава и режиссер Сергей Канчер создали большой проект, посвященный Первой и Второй Чеченским войнам. \n",
    "Это и тотальная инсталляция, и фотографии, и артефакты, и интервью с ветеранами обеих войн и, конечно, видео на песню “1999”, которое вы впервые сможете увидеть на выставке. \n",
    "Это попытка осмыслить жуткий опыт войны. \n",
    "Это попытка вглядеться в то, на что нельзя закрывать глаза. \n",
    "Потому что, даже если отвернуться, то, что произошло, никуда не денется.\"\"\""
   ]
  },
  {
   "cell_type": "code",
   "execution_count": 16,
   "metadata": {},
   "outputs": [
    {
     "name": "stdout",
     "output_type": "stream",
     "text": [
      "['Привет', ',', 'друзья', '!', 'Сегодня', 'в', 'галлерее', '11.12', 'в', 'USERTAG', 'открывается', 'выставка', 'нашего', 'друга', 'художника', 'USERTAG', '.', 'Вокруг', 'нашей', 'песни', '“', '1999', '”', 'Слава', 'и', 'режиссер', 'Сергей', 'Канчер', 'создали', 'большой', 'проект', ',', 'посвященный', 'Первой', 'и', 'Второй', 'Чеченским', 'войнам', '.', 'Это', 'и', 'тотальная', 'инсталляция', ',', 'и', 'фотографии', ',', 'и', 'артефакты', ',', 'и', 'интервью', 'с', 'ветеранами', 'обеих', 'войн', 'и', ',', 'конечно', ',', 'видео', 'на', 'песню', '“', '1999', '”', ',', 'которое', 'вы', 'впервые', 'сможете', 'увидеть', 'на', 'выставке', '.', 'Это', 'попытка', 'осмыслить', 'жуткий', 'опыт', 'войны', '.', 'Это', 'попытка', 'вглядеться', 'в', 'то', ',', 'на', 'что', 'нельзя', 'закрывать', 'глаза', '.', 'Потому', 'что', ',', 'даже', 'если', 'отвернуться', ',', 'то', ',', 'что', 'произошло', ',', 'никуда', 'не', 'денется', '.']\n"
     ]
    }
   ],
   "source": [
    "words_nltk = word_tokenize(text)\n",
    "print(words_nltk)"
   ]
  },
  {
   "cell_type": "markdown",
   "metadata": {},
   "source": [
    "Давайте сравним с токенизатором, написанным вручную (с помощью регулярок)"
   ]
  },
  {
   "cell_type": "code",
   "execution_count": 17,
   "metadata": {},
   "outputs": [
    {
     "name": "stdout",
     "output_type": "stream",
     "text": [
      "['Привет', ',', 'друзья', '!', 'Сегодня', 'в', 'галлерее', '11', '.', '12', 'в', 'USERTAG', 'открывается', 'выставка', 'нашего', 'друга', 'художника', 'USERTAG', '.', 'Вокруг', 'нашей', 'песни', '“1999”', 'Слава', 'и', 'режиссер', 'Сергей', 'Канчер', 'создали', 'большой', 'проект', ',', 'посвященный', 'Первой', 'и', 'Второй', 'Чеченским', 'войнам', '.', 'Это', 'и', 'тотальная', 'инсталляция', ',', 'и', 'фотографии', ',', 'и', 'артефакты', ',', 'и', 'интервью', 'с', 'ветеранами', 'обеих', 'войн', 'и', ',', 'конечно', ',', 'видео', 'на', 'песню', '“1999”', ',', 'которое', 'вы', 'впервые', 'сможете', 'увидеть', 'на', 'выставке', '.', 'Это', 'попытка', 'осмыслить', 'жуткий', 'опыт', 'войны', '.', 'Это', 'попытка', 'вглядеться', 'в', 'то', ',', 'на', 'что', 'нельзя', 'закрывать', 'глаза', '.', 'Потому', 'что', ',', 'даже', 'если', 'отвернуться', ',', 'то', ',', 'что', 'произошло', ',', 'никуда', 'не', 'денется', '.']\n"
     ]
    }
   ],
   "source": [
    "words_re = [i.strip() for i in re.split(r\"([ \\.\\?!,]{1,})\", text) if i.strip()]\n",
    "print(words_re)"
   ]
  },
  {
   "cell_type": "code",
   "execution_count": 19,
   "metadata": {},
   "outputs": [
    {
     "data": {
      "text/plain": [
       "False"
      ]
     },
     "execution_count": 19,
     "metadata": {},
     "output_type": "execute_result"
    }
   ],
   "source": [
    "words_nltk == words_re"
   ]
  },
  {
   "cell_type": "code",
   "execution_count": 21,
   "metadata": {},
   "outputs": [
    {
     "name": "stdout",
     "output_type": "stream",
     "text": [
      "{'“', '”', '1999', '11.12'}\n",
      "{'12', '“1999”', '11'}\n"
     ]
    }
   ],
   "source": [
    "print(set(words_nltk)-set(words_re))\n",
    "print(set(words_re)-set(words_nltk))"
   ]
  },
  {
   "cell_type": "markdown",
   "metadata": {},
   "source": [
    "## 2. Деление на предложения"
   ]
  },
  {
   "cell_type": "code",
   "execution_count": 22,
   "metadata": {},
   "outputs": [],
   "source": [
    "from nltk.tokenize import sent_tokenize"
   ]
  },
  {
   "cell_type": "code",
   "execution_count": 23,
   "metadata": {},
   "outputs": [
    {
     "name": "stdout",
     "output_type": "stream",
     "text": [
      "['Привет, друзья!', 'Сегодня в галлерее 11.12 в USERTAG открывается выставка нашего друга художника USERTAG.', 'Вокруг нашей песни “1999” Слава и режиссер Сергей Канчер создали большой проект, посвященный Первой и Второй Чеченским войнам.', 'Это и тотальная инсталляция, и фотографии, и артефакты, и интервью с ветеранами обеих войн и, конечно, видео на песню “1999”, которое вы впервые сможете увидеть на выставке.', 'Это попытка осмыслить жуткий опыт войны.', 'Это попытка вглядеться в то, на что нельзя закрывать глаза.', 'Потому что, даже если отвернуться, то, что произошло, никуда не денется.']\n"
     ]
    }
   ],
   "source": [
    "sentences_nltk = sent_tokenize(text)\n",
    "print(sentences_nltk)"
   ]
  },
  {
   "cell_type": "code",
   "execution_count": 24,
   "metadata": {},
   "outputs": [
    {
     "name": "stdout",
     "output_type": "stream",
     "text": [
      "['Привет, друзья!', 'Сегодня в галлерее 11.12 в USERTAG открывается выставка нашего друга художника USERTAG.', 'Вокруг нашей песни “1999” Слава и режиссер Сергей Канчер создали большой проект, посвященный Первой и Второй Чеченским войнам.', 'Это и тотальная инсталляция, и фотографии, и артефакты, и интервью с ветеранами обеих войн и, конечно, видео на песню “1999”, которое вы впервые сможете увидеть на выставке.', 'Это попытка осмыслить жуткий опыт войны.', 'Это попытка вглядеться в то, на что нельзя закрывать глаза.', 'Потому что, даже если отвернуться, то, что произошло, никуда не денется.']\n"
     ]
    }
   ],
   "source": [
    "sentences_re = [i.strip() for i in re.split(r\"(.+?[\\.!\\?]{1,}\\s)\", text) if i.strip()]\n",
    "print(sentences_re)"
   ]
  },
  {
   "cell_type": "code",
   "execution_count": 25,
   "metadata": {},
   "outputs": [
    {
     "data": {
      "text/plain": [
       "True"
      ]
     },
     "execution_count": 25,
     "metadata": {},
     "output_type": "execute_result"
    }
   ],
   "source": [
    "sentences_nltk == sentences_re"
   ]
  },
  {
   "cell_type": "markdown",
   "metadata": {},
   "source": [
    "А если взять наш старый текст, посложнее?"
   ]
  },
  {
   "cell_type": "code",
   "execution_count": 9,
   "metadata": {},
   "outputs": [],
   "source": [
    "text = \"\"\"13 сентября будем ходить ходуном. Прямо во дворе Пауэрхауса. Всё, как обычно, только соскучившись. Новые песни, старые песни. Прыжки и кувырки. Радость и смех.\n",
    "Такое надо в корне пресекать!\n",
    "Билеты: https://sbp4band.ticketscloud.org\n",
    "\n",
    "Пожалуйста, планируйте приобретение билетов заранее. Высока вероятность, что продажа на входе осуществляться не будет\"\"\"\n"
   ]
  },
  {
   "cell_type": "code",
   "execution_count": 27,
   "metadata": {},
   "outputs": [
    {
     "name": "stdout",
     "output_type": "stream",
     "text": [
      "['13 сентября будем ходить ходуном.', 'Прямо во дворе Пауэрхауса.', 'Всё, как обычно, только соскучившись.', 'Новые песни, старые песни.', 'Прыжки и кувырки.', 'Радость и смех.', 'Такое надо в корне пресекать!', 'Билеты: https://sbp4band.ticketscloud.org\\n\\nПожалуйста, планируйте приобретение билетов заранее.', 'Высока вероятность, что продажа на входе осуществляться не будет']\n"
     ]
    }
   ],
   "source": [
    "sentences_nltk = sent_tokenize(text)\n",
    "print(sentences_nltk)"
   ]
  },
  {
   "cell_type": "code",
   "execution_count": 28,
   "metadata": {},
   "outputs": [
    {
     "name": "stdout",
     "output_type": "stream",
     "text": [
      "['13 сентября будем ходить ходуном.', 'Прямо во дворе Пауэрхауса.', 'Всё, как обычно, только соскучившись.', 'Новые песни, старые песни.', 'Прыжки и кувырки.', 'Радость и смех.', 'Такое надо в корне пресекать!', 'Билеты: https://sbp4band.ticketscloud.org', 'Пожалуйста, планируйте приобретение билетов заранее.', 'Высока вероятность, что продажа на входе осуществляться не будет']\n"
     ]
    }
   ],
   "source": [
    "sentences_re = [i.strip() for i in re.split(r\"(.+?[\\.!\\?]{1,}\\s)\", text) if i.strip()]\n",
    "print(sentences_re)"
   ]
  },
  {
   "cell_type": "code",
   "execution_count": 29,
   "metadata": {},
   "outputs": [
    {
     "data": {
      "text/plain": [
       "False"
      ]
     },
     "execution_count": 29,
     "metadata": {},
     "output_type": "execute_result"
    }
   ],
   "source": [
    "sentences_nltk == sentences_re"
   ]
  },
  {
   "cell_type": "markdown",
   "metadata": {},
   "source": [
    "_NB! иногда ваш код может быть лучше чего-то готового_ "
   ]
  },
  {
   "cell_type": "markdown",
   "metadata": {},
   "source": [
    "## 3. Лемматизация"
   ]
  },
  {
   "cell_type": "code",
   "execution_count": 4,
   "metadata": {},
   "outputs": [],
   "source": [
    "from pymystem3 import Mystem"
   ]
  },
  {
   "cell_type": "code",
   "execution_count": 2,
   "metadata": {},
   "outputs": [
    {
     "name": "stdout",
     "output_type": "stream",
     "text": [
      "Collecting pymystem3\n",
      "  Downloading pymystem3-0.2.0-py3-none-any.whl (10 kB)\n",
      "Requirement already satisfied: requests in /Users/tatsianamelnikava/opt/anaconda3/lib/python3.8/site-packages (from pymystem3) (2.24.0)\n",
      "Requirement already satisfied: urllib3!=1.25.0,!=1.25.1,<1.26,>=1.21.1 in /Users/tatsianamelnikava/opt/anaconda3/lib/python3.8/site-packages (from requests->pymystem3) (1.25.9)\n",
      "Requirement already satisfied: idna<3,>=2.5 in /Users/tatsianamelnikava/opt/anaconda3/lib/python3.8/site-packages (from requests->pymystem3) (2.10)\n",
      "Requirement already satisfied: chardet<4,>=3.0.2 in /Users/tatsianamelnikava/opt/anaconda3/lib/python3.8/site-packages (from requests->pymystem3) (3.0.4)\n",
      "Requirement already satisfied: certifi>=2017.4.17 in /Users/tatsianamelnikava/opt/anaconda3/lib/python3.8/site-packages (from requests->pymystem3) (2020.6.20)\n",
      "Installing collected packages: pymystem3\n",
      "Successfully installed pymystem3-0.2.0\n"
     ]
    }
   ],
   "source": [
    "!pip install pymystem3"
   ]
  },
  {
   "cell_type": "code",
   "execution_count": 7,
   "metadata": {},
   "outputs": [],
   "source": [
    "def lemmatize_text(text):\n",
    "    m = Mystem()\n",
    "    lemmas = m.lemmatize(text)\n",
    "    lemmatized_text = ''.join(lemmas)\n",
    "    return lemmatized_text"
   ]
  },
  {
   "cell_type": "code",
   "execution_count": 10,
   "metadata": {},
   "outputs": [
    {
     "name": "stderr",
     "output_type": "stream",
     "text": [
      "Installing mystem to /Users/tatsianamelnikava/.local/bin/mystem from http://download.cdn.yandex.net/mystem/mystem-3.1-macosx.tar.gz\n"
     ]
    },
    {
     "data": {
      "text/plain": [
       "'13 сентябрь быть ходить ходуном. прямо во двор пауэрхауса. все, как обычно, только соскучиться. новый песня, старый песня. прыжок и кувырок. радость и смех.\\nтакой надо в корень пресекать!\\nбилет: https://sbp4band.ticketscloud.org\\n\\nпожалуйста, планировать приобретение билет заранее. высокий вероятность, что продажа на вход осуществляться не быть\\n'"
      ]
     },
     "execution_count": 10,
     "metadata": {},
     "output_type": "execute_result"
    }
   ],
   "source": [
    "lemmatize_text(text)"
   ]
  },
  {
   "cell_type": "markdown",
   "metadata": {},
   "source": [
    "# НАТАААШАААА\n",
    "\n",
    "https://github.com/natasha/natasha"
   ]
  },
  {
   "cell_type": "markdown",
   "metadata": {},
   "source": [
    "![natasha](https://www.meme-arsenal.com/memes/f3c9f08ab239e223f48647b2826a1538.jpg)"
   ]
  },
  {
   "cell_type": "code",
   "execution_count": 11,
   "metadata": {},
   "outputs": [
    {
     "name": "stdout",
     "output_type": "stream",
     "text": [
      "Collecting natasha\n",
      "  Downloading natasha-1.3.0-py3-none-any.whl (34.4 MB)\n",
      "\u001b[K     |████████████████████████████████| 34.4 MB 144 kB/s eta 0:00:01     |█████████████▎                  | 14.3 MB 120 kB/s eta 0:02:47     |███████████████████████████████▎| 33.7 MB 113 kB/s eta 0:00:07\n",
      "\u001b[?25hCollecting razdel>=0.5.0\n",
      "  Downloading razdel-0.5.0-py3-none-any.whl (21 kB)\n",
      "Collecting pymorphy2\n",
      "  Downloading pymorphy2-0.9.1-py3-none-any.whl (55 kB)\n",
      "\u001b[K     |████████████████████████████████| 55 kB 151 kB/s eta 0:00:01\n",
      "\u001b[?25hCollecting slovnet>=0.3.0\n",
      "  Downloading slovnet-0.4.0-py3-none-any.whl (49 kB)\n",
      "\u001b[K     |████████████████████████████████| 49 kB 103 kB/s ta 0:00:01\n",
      "\u001b[?25hCollecting yargy>=0.14.0\n",
      "  Downloading yargy-0.14.0-py3-none-any.whl (41 kB)\n",
      "\u001b[K     |████████████████████████████████| 41 kB 73 kB/s  eta 0:00:01\n",
      "\u001b[?25hCollecting navec>=0.9.0\n",
      "  Downloading navec-0.9.0-py3-none-any.whl (23 kB)\n",
      "Collecting ipymarkup>=0.8.0\n",
      "  Downloading ipymarkup-0.9.0-py3-none-any.whl (14 kB)\n",
      "Collecting docopt>=0.6\n",
      "  Downloading docopt-0.6.2.tar.gz (25 kB)\n",
      "Collecting dawg-python>=0.7.1\n",
      "  Downloading DAWG_Python-0.7.2-py2.py3-none-any.whl (11 kB)\n",
      "Collecting pymorphy2-dicts-ru<3.0,>=2.4\n",
      "  Downloading pymorphy2_dicts_ru-2.4.404381.4453942-py2.py3-none-any.whl (8.0 MB)\n",
      "\u001b[K     |████████████████████████████████| 8.0 MB 297 kB/s eta 0:00:01\n",
      "\u001b[?25hRequirement already satisfied: numpy in /Users/tatsianamelnikava/opt/anaconda3/lib/python3.8/site-packages (from slovnet>=0.3.0->natasha) (1.18.5)\n",
      "Requirement already satisfied: intervaltree>=3 in /Users/tatsianamelnikava/opt/anaconda3/lib/python3.8/site-packages (from ipymarkup>=0.8.0->natasha) (3.0.2)\n",
      "Requirement already satisfied: sortedcontainers<3.0,>=2.0 in /Users/tatsianamelnikava/opt/anaconda3/lib/python3.8/site-packages (from intervaltree>=3->ipymarkup>=0.8.0->natasha) (2.2.2)\n",
      "Building wheels for collected packages: docopt\n",
      "  Building wheel for docopt (setup.py) ... \u001b[?25ldone\n",
      "\u001b[?25h  Created wheel for docopt: filename=docopt-0.6.2-py2.py3-none-any.whl size=13704 sha256=8fc78ec1a172d2946c0d6defcf516aed818aad7d8ddb8a0d796ced1ac28bc605\n",
      "  Stored in directory: /Users/tatsianamelnikava/Library/Caches/pip/wheels/56/ea/58/ead137b087d9e326852a851351d1debf4ada529b6ac0ec4e8c\n",
      "Successfully built docopt\n",
      "Installing collected packages: razdel, docopt, dawg-python, pymorphy2-dicts-ru, pymorphy2, navec, slovnet, yargy, ipymarkup, natasha\n",
      "Successfully installed dawg-python-0.7.2 docopt-0.6.2 ipymarkup-0.9.0 natasha-1.3.0 navec-0.9.0 pymorphy2-0.9.1 pymorphy2-dicts-ru-2.4.404381.4453942 razdel-0.5.0 slovnet-0.4.0 yargy-0.14.0\n"
     ]
    }
   ],
   "source": [
    "!pip install natasha"
   ]
  },
  {
   "cell_type": "code",
   "execution_count": 14,
   "metadata": {},
   "outputs": [],
   "source": [
    "from natasha import (Segmenter, MorphVocab, NewsEmbedding, \n",
    "NewsMorphTagger, NewsSyntaxParser, NewsNERTagger, PER, NamesExtractor, Doc)"
   ]
  },
  {
   "cell_type": "code",
   "execution_count": 15,
   "metadata": {},
   "outputs": [],
   "source": [
    "segmenter = Segmenter()\n",
    "morph_vocab = MorphVocab()\n",
    "\n",
    "emb = NewsEmbedding()\n",
    "morph_tagger = NewsMorphTagger(emb)\n",
    "syntax_parser = NewsSyntaxParser(emb)\n",
    "ner_tagger = NewsNERTagger(emb)\n",
    "names_extractor = NamesExtractor(morph_vocab)"
   ]
  },
  {
   "cell_type": "code",
   "execution_count": 16,
   "metadata": {},
   "outputs": [],
   "source": [
    "doc = Doc(text)\n",
    "doc.segment(segmenter)"
   ]
  },
  {
   "cell_type": "code",
   "execution_count": 17,
   "metadata": {},
   "outputs": [
    {
     "data": {
      "text/plain": [
       "['13 сентября будем ходить ходуном.',\n",
       " 'Прямо во дворе Пауэрхауса.',\n",
       " 'Всё, как обычно, только соскучившись.',\n",
       " 'Новые песни, старые песни.',\n",
       " 'Прыжки и кувырки.',\n",
       " 'Радость и смех.',\n",
       " 'Такое надо в корне пресекать!',\n",
       " 'Билеты: https://sbp4band.ticketscloud.org\\n\\nПожалуйста, планируйте приобретение билетов заранее.',\n",
       " 'Высока вероятность, что продажа на входе осуществляться не будет']"
      ]
     },
     "execution_count": 17,
     "metadata": {},
     "output_type": "execute_result"
    }
   ],
   "source": [
    "[i.text for i in doc.sents]"
   ]
  },
  {
   "cell_type": "code",
   "execution_count": 18,
   "metadata": {},
   "outputs": [
    {
     "name": "stdout",
     "output_type": "stream",
     "text": [
      "['13', 'сентября', 'будем', 'ходить', 'ходуном', '.', 'Прямо', 'во', 'дворе', 'Пауэрхауса', '.', 'Всё', ',', 'как', 'обычно', ',', 'только', 'соскучившись', '.', 'Новые', 'песни', ',', 'старые', 'песни', '.', 'Прыжки', 'и', 'кувырки', '.', 'Радость', 'и', 'смех', '.', 'Такое', 'надо', 'в', 'корне', 'пресекать', '!', 'Билеты', ':', 'https', ':', '/', '/', 'sbp', '4', 'band', '.', 'ticketscloud', '.', 'org', 'Пожалуйста', ',', 'планируйте', 'приобретение', 'билетов', 'заранее', '.', 'Высока', 'вероятность', ',', 'что', 'продажа', 'на', 'входе', 'осуществляться', 'не', 'будет']\n"
     ]
    }
   ],
   "source": [
    "print([i.text for i in doc.tokens])"
   ]
  },
  {
   "cell_type": "code",
   "execution_count": 19,
   "metadata": {},
   "outputs": [],
   "source": [
    "doc.tag_morph(morph_tagger)\n",
    "for token in doc.tokens:\n",
    "    token.lemmatize(morph_vocab)"
   ]
  },
  {
   "cell_type": "code",
   "execution_count": 20,
   "metadata": {},
   "outputs": [
    {
     "name": "stdout",
     "output_type": "stream",
     "text": [
      "['13', 'сентябрь', 'быть', 'ходить', 'ходуном', '.', 'прямо', 'в', 'двор', 'пауэрхаус', '.', 'весь', ',', 'как', 'обычно', ',', 'только', 'соскучившись', '.', 'новый', 'песня', ',', 'старый', 'песня', '.', 'прыжок', 'и', 'кувырок', '.', 'радость', 'и', 'смех', '.', 'такой', 'надо', 'в', 'корн', 'пресекать', '!', 'билет', ':', 'https', ':', '/', '/', 'sbp', '4', 'band', '.', 'ticketscloud', '.', 'org', 'пожалуйста', ',', 'планировать', 'приобретение', 'билет', 'заранее', '.', 'высока', 'вероятность', ',', 'что', 'продажа', 'на', 'вход', 'осуществляться', 'не', 'быть']\n"
     ]
    }
   ],
   "source": [
    "print([i.lemma for i in doc.tokens])"
   ]
  },
  {
   "cell_type": "markdown",
   "metadata": {},
   "source": [
    "## 4. Извлечение именованных сущностей"
   ]
  },
  {
   "cell_type": "markdown",
   "metadata": {},
   "source": [
    "Нуууу.... может Наташа хотя бы имена выделять умеет? или города/места?"
   ]
  },
  {
   "cell_type": "markdown",
   "metadata": {},
   "source": [
    "PER = person\n",
    "\n",
    "LOC = location\n",
    "\n",
    "ORG = organization"
   ]
  },
  {
   "cell_type": "code",
   "execution_count": 24,
   "metadata": {},
   "outputs": [],
   "source": [
    "doc.tag_ner(ner_tagger)"
   ]
  },
  {
   "cell_type": "code",
   "execution_count": 25,
   "metadata": {},
   "outputs": [
    {
     "name": "stdout",
     "output_type": "stream",
     "text": [
      "Пауэрхауса PER\n"
     ]
    }
   ],
   "source": [
    "for span in doc.spans:\n",
    "    print(text[span.start:span.stop], span.type)"
   ]
  },
  {
   "cell_type": "markdown",
   "metadata": {},
   "source": [
    "давайте не будем отчаиваться и попробуем найти все места / локации во всех текстах:"
   ]
  },
  {
   "cell_type": "code",
   "execution_count": 27,
   "metadata": {},
   "outputs": [],
   "source": [
    "locations = set()\n",
    "persons = set()\n",
    "organizations = set()\n",
    "\n",
    "with open(\"texts.txt\", 'r', encoding=\"utf-8\") as f:\n",
    "    for line in f:\n",
    "        text = line.strip()\n",
    "        \n",
    "        doc = Doc(text)\n",
    "        doc.segment(segmenter)\n",
    "        doc.tag_morph(morph_tagger)\n",
    "        doc.tag_ner(ner_tagger)\n",
    "        \n",
    "        for span in doc.spans:\n",
    "            span.normalize(morph_vocab)\n",
    "        \n",
    "            if span.type == 'LOC':\n",
    "                locations.add(span.normal)\n",
    "            \n",
    "            elif span.type == 'PER':\n",
    "                persons.add(span.normal)\n",
    "            \n",
    "            elif span.type == 'ORG':\n",
    "                organizations.add(span.normal)"
   ]
  },
  {
   "cell_type": "code",
   "execution_count": 28,
   "metadata": {},
   "outputs": [
    {
     "name": "stdout",
     "output_type": "stream",
     "text": [
      "{'Меги', 'Эма', 'Кемерово', 'Казань', 'Марий Эл', 'Волжский', 'Африка', 'Мишка', 'Москва (USERTAG)', 'Сколково', 'Тула', 'Киев', 'Сочи', 'Кейптаун', 'ЮАР', 'Столешников пер', 'Арт-завод Механик', 'Нижний Новгород', 'Главклуб', 'Море', 'Энтузиаст', 'Горький', 'Маяковская', 'Донецк', 'Горохова', 'Сардаял', 'Воронеж', 'Лондон', 'Омск', 'Минск (USERTAG)', 'Беларусь', 'Хельсинки', 'Новосибирский академгородок', 'Вильнюс', 'Вагонка', 'Америка', 'Украина', 'Ростов-на-Дону', 'Подольск', 'Нижний', 'Красноярск (USERTAG)', 'Прибалтика', 'Comprendo (WEBLINK)', 'Нижний Нооооооооовгороооооод', 'Академгородок', 'Музеон', 'Улан-Удэ', 'Тверская', 'Ораниенбаум', 'Танцплощадке', 'Сибирь', 'Чайна-таун', 'Соль', 'Мурманск', 'Эме', 'Новосибирск (USERTAG)', 'Австралия', 'Норвегия', 'Запорожье', 'Одесса', 'Рихтер', 'Томск (USERTAG)', 'Елагин остров', 'Краснодарский край', 'Белорусы', 'Петербург', 'Екатеринбург', 'Пулковский парк', 'Томск', 'Львов', 'Англия', 'Земля', 'Тверская улица', 'Урал', 'Чечня', 'Елагином остров', 'Новосибирск', 'Харьков', 'Рига', 'Днепр', 'Челябинск', 'Пермь', 'Калуга', 'Россия', 'Самара', 'Калининград', 'Новая Голландия', 'Солянка', 'Винзавод', 'Пекин', 'Васильевский остров', 'Омск (USERTAG)', 'Цоколь', 'Саратов', 'Питер', 'Вчера', 'Волжском', 'Пермь (USERTAG)', 'Днепропетровск', 'Пляцоўка Hall WEBLINK', 'Юг', 'Стрелка', 'МОСКВА', 'АкадемГородок', 'Краснодар', 'Южная Африка', 'Гана', 'Манежная площадь', 'КИЕВ', 'Уфа', 'Фонтанная Площадь', 'Санкт-Петербург', 'Свет', 'Ленинград', 'Коломенское', 'Осиновецкий маяк', 'Тольятти', 'Танцплощадка', 'Архангельск', 'Москва', 'Орел', 'Пресненский Вал', 'Владимирский', 'Барнаул', 'Волгоград', 'Красноярск', 'Блокада', 'Афиша-Волна', 'Нижний Новгород (USERTAG)', 'Ульяновск', 'Минск', 'Сулимовка', 'Самара (USERTAG)', 'Столешникова переулок', 'Ижевск', 'Севкабель', 'Петровка', 'Липецк', 'Бухарест', 'Александринка', 'Йоу', 'Петебург', 'Встречайте', 'Николо-Ленивец', 'Пятницкая', 'Рэд', 'Ростов'}\n"
     ]
    }
   ],
   "source": [
    "print(locations)"
   ]
  },
  {
   "cell_type": "code",
   "execution_count": 29,
   "metadata": {},
   "outputs": [
    {
     "name": "stdout",
     "output_type": "stream",
     "text": [
      "{'Гали Чикис', 'Налетай', 'Космонавт WEBLINK', 'Афекса Твина', 'Сашу Чуркин', 'Лемондэй', 'Сабина Алиеву', 'Юлия Рыженко', 'Мишка', 'Антоху Хабибулин', 'Оксана Ласкина', 'Жени', 'Игорь Вдовин', 'Катя Стовбур', 'Константин Мурзенко', 'Галя Чикисс', 'Ксюша Рябокінь', 'Андрей Митрошин', 'Паша Самохвалов', 'Дима Японец', 'Вотсап-вотсап', 'Сашу Андерсон', 'Max Startsev)', 'Лена Лелинову', 'Иван Клушин', 'Женя Онегина', 'Дима Иванов', 'Миша Ильин', 'Дэвид макфадьен', 'Роза Хайруллина', 'Юрий Энтина', 'Юля Русановых', 'Наадя Грицкевич', 'Алена Фалько', 'Максим Семеляк', 'Иван Белаш', 'Медвежонок', 'Стас', 'Антон Гумен', 'Женю Ваничев', 'Кирилл Умирихин', 'Кирилл Иванов', 'Москв', 'Надя Косян', 'Сашу Никитину', 'Та-да-ам', 'Давид', 'Михаил Ильин', 'Макару Кобельскому', 'Толмачев', 'Максим Колодиец', 'Любовь Аркус', 'Взвешен', 'Антон Анатольевич Мальцев', 'Игорь Содазот', 'Борзых', 'Марфу Кожевников', 'Евгений Крылатов', 'Слив', 'Гифка', 'Эрарта', 'Александр Матухно', 'Дмитрий Семенушкин', 'Антон', 'Стасов', 'Занимайте', 'Максим Погоржельский', 'Катя Волкова', 'Денис Синельщиков', 'Андрей Вальдберг', 'Бахтин', 'Па', 'Женя Борзых', 'Кирилл Замышляев', 'Баритон-саксофон', 'Петр Стромина', 'Настя Коломенская', 'Ольга Мещерякова', 'Женя Аэрохоккей', 'Майк', 'Татьяна Страмнова', 'Мемомузыка', 'Наири', 'Кирилл Авраменко', 'Кирилл Умрихин', 'Дмитрий Суворов', 'Тане Пантелеева', 'Нарисуйте', 'Виктор Бойко', 'Матвей Ильющенко', 'Алексей Киселев', 'Пиу', 'Сергей Канчер', 'Александр Гудков', 'Лопни', 'Женей Борзых', 'Валерий Белобеев', 'Валерия Коган', 'Лиза', 'Виолетте Ополовниковой', 'Соня Карпунина', 'Таня Мальцева', 'План-А', 'Никита Онисенко', 'Баратынский', 'Олег Нестеров', 'Маша Гонтарь', 'Оля Закревская', 'Вера Агафонникову', 'Хэллоу', 'Сергей Соловьев', 'Дима', 'Миша Ганнушкин', 'Борис Андрианов', 'Ольга Берковская', 'Серафим Григорьев', 'Роза Хутор', 'Слава', 'Саши', 'Женя Анисимов', 'Чек-чек', 'Женя', 'Ксения Дремина', 'Ян Шалину', 'Кусайте', 'Илья', 'Дмитрий Фадеев', 'Ева', 'Сашу Аммосов', 'Бдыщ', 'Олег', 'Максим Мошкин', 'Юля Майорова', 'Олег Солдатов', 'Виктория Щечка', 'Саша', 'Шок–интервью', 'Тима Балдин', 'Марк Боярский', 'Рррррррррр', 'Олег Фионик', 'Мозг', 'Наадя', 'Анастасия Сверкунова', 'Та-дам', 'Антон Хабибулин', 'Ольга Шелест', 'Сашу Барановскую', 'Иванов', 'Игорь', 'Кристина Орбакайте', 'Миша Михайлов', 'Айда', 'Катя', 'Хей-хо', 'Вера Благодарев', 'Алена Лобанова', 'Михаил Брашинский', 'Вези', 'Игорь Татарников', 'Нигины Сайфуллаевой', 'Алексей Мунипов', 'Ире Галушкиной', 'Касииопея', 'Сталин', 'Егор Максимов', 'Ррррррррррр', 'Олеся Колабаеву', 'Йоу', 'Пшшшшш', 'Игорь Грибков', 'Катя Штарева', 'Кранодар', 'Елочные Игрушки', 'Павел Самохвалов', 'Ростов-он-Дон', 'Василий Санюк', 'Лисичка', 'Женька', 'Даня', 'Полина Кириленко', 'Тим Яржомбек', 'Евгений Силаев', 'Варя Алешкевич', 'Алексей Калабин', 'Матвей Коровин', 'Евгения Остроумова', 'Диана Арбенина', 'Елочные Игрушка', 'Маша Старостину', 'Сашу Сколкова', 'Жжжж', 'Конан О’Брайен', 'Лере Коган', 'Томас', 'Полина Гутовскую', 'Лиза Загряжскую', 'Анна Холина', 'Ребзя', 'Кирилл', 'Ольга', 'Вауч', 'Александр Модуль', 'Олег Глушков', 'Марина Петрова', 'Пауэрхаус', 'Надя Грицкевич', 'Ирина Саминская', 'Вася', 'Ирина Белоус', 'У-у-у-у-у', 'Жени Борзых', 'Вартану Мартыняну', 'Сашу Шумилину', 'Коллеони', 'Катя Волкову', 'Надежда Ворожейкина', 'Дмитрий Колдун', 'Максим', 'Артемий Троицкий', 'Леденящий', 'Женя Гудков', 'КИРИЛЛ ИВАНОВ', 'Катя Тачкову', 'Филипп Трапезников', 'Денис Бояринов', 'Большущее', 'Алена Долбик', 'Игорь Бердников', 'Джаспер', 'Романович', 'Елена Спектор', 'Таня Муиньо', 'Саши Зайцев', 'Аглаи Демиденко', 'Соня', 'Паша', 'Анна Слоникова', 'Ростиславу Кундику', 'София Туроль', 'Спевшие', 'Алексей Карпенко', 'Маша Демьянова', 'Антон Курильчик', 'Михаил Ципорин', 'Паша Артемьев', 'Евгений Трифонов', 'Карина Бидюк', 'Вадик', 'Феликс Данкевич', 'Татьяна Долматовская', 'Путин', 'Олег Рикота', 'Саша Липский', 'Хо-хо-хо', 'Соскучались', 'Дэниел Джаспер', 'Федука', 'Лиза Сидоренко', 'Пес', 'Непрошенная', 'А-р-р-р-р-р', 'Юра Хоя', 'Главклуб', 'Паша Вардишвили', 'Илья Красильщик', 'Добрынин', 'Евгения Борзых', 'Андрей Артемов', 'Женю Рыбалко', 'Суперновость', 'Михаил Выборный', 'Илья Барамия', 'Гоголь', 'Концерт-презентация', 'Эжена Быков', 'Ксения Болотову', 'Надежна Лапшин', 'Артем Кошкин', 'Рихтер', 'Станислав Зельвенский', 'Алексей Савкин', 'Маша Эм', 'Богдан Татаренко', 'Olga Kuraeva)', 'Андрей Макаревич', 'Рубальской', 'Саша Кулак', 'Матисс', 'Надя', 'Филипп Дзядко', 'Ольга Страховская', 'Калиниград', 'Антон Михайловский', 'Хей', 'Stereobeaver\\ufeff', 'Чекираут', 'Дмитрий Повалишин', 'Василису Усманов', 'Юля Кискину', 'Паутиныч', 'Роман Быховец', 'Любовь Инжутову', 'Михаил Григорьев', 'Екатерина Щербатенко', 'Миша Григорьев', 'Тим Балдин', 'Ром USERTAG', 'Дима Зайцев', 'Сергей Соколов', 'Анар Шилов', 'Женю Борзых', 'Саша Исакова', 'Соня Мунтян', 'Достоевский', 'Миша Мост', 'Олег Занин', 'Лиза Аксенову', 'Лидия Маслова', 'Соню Воронину', 'Гриша', 'Алина Сапрыкина', 'Гетап-стендап', 'Настя Блашенкову', 'Сергей Степанов', 'Марина Баринову', 'Сашу Гудков', 'Аня Дарман', 'Антон Михайловского'}\n"
     ]
    }
   ],
   "source": [
    "print(persons)"
   ]
  },
  {
   "cell_type": "code",
   "execution_count": 30,
   "metadata": {},
   "outputs": [
    {
     "name": "stdout",
     "output_type": "stream",
     "text": [
      "{'Гараж', 'Эма', 'The Rock Club (WEBLINK)', 'СПБЧ', 'Glamour', 'Афиша', 'VICE', 'Дождь', 'Африка', 'Ночлежки', 'Новая сцена', 'WEBLINK/', 'Афиши', 'Far from Moscow', 'Летний лагер', 'GQ', 'Журнал Snob', 'Faces&Laces Locals', 'Dza', 'Южный', 'СБПЧ Оркестр', 'Щелкунчик', 'BOOM', 'Музей Гражданские права', 'Мастерская', 'Re Public', 'Melody PM', 'Серебряный дождь', 'Kirill Ivanov', 'Клуб \"Мастерская', 'Стереолет', 'RED club WEBLINK', 'ЦДХ', 'OPTIMYSTICA ORCHESTRA', 'РБК', 'Камчатка', 'Mishke', 'Море', 'Дa', 'Чеченские войны', 'ЕстьЕстьЕсть', 'LES', 'Volna Records', 'Танцплощадки', 'WEBLINK', 'Зеленый театр', 'Kito Jempere', 'Ростелеком', 'Самое Большое Простое Число', 'Interview', 'Hipster & Indie', 'Доктор Хаус', 'ТАСС // WEBLINK', '16 тонны', 'Агломерат', 'Apple', 'Медузе', 'Дом Печати', 'СТС', 'СБПЧ', 'USERTAG aka USERTAG', 'ЦСИ “Облака” (WEBLINK)', 'Caribbean Club 27/1', 'Газетный Live 8/6', 'Роскино', 'Forbes', 'Общество чистые тарелки', 'Склад // WEBLINK', 'DZA', 'Легко-Легко', 'Red!', 'The Base Women', 'Krjuk', 'Провал', 'Kasabian\\ufeff', 'Сад \"Эрмитаж', 'Машина время', 'Известия Hall!', 'Yeye Weller', 'Ворота', 'USERTAG', 'Arena Hall Air 📸', 'Музеон', 'НОВОСТИ ГРУППЫ', 'Lenta.ru', 'Маяк', 'Октябрь', 'Солянке', 'Гоголь', 'Numéro', 'Соскучился', 'Александринский театр', 'Современное Искусство', 'Эрмитаж', 'УРА!', 'СКОРО', 'Газетный Live WEBLINK', 'Дом Печать', 'ТЦ МЕГА', 'Caribbean Club 27/1/19', 'Telegram', 'Just Be Nice', 'Instagram', 'Кассиопеей', 'ММСИ', 'Рихтер', 'Pronin & Youkovskiy', 'Самое Большое Простое Число (СБПЧ)', 'Revoltmetr', 'La Boule', 'Esquire', 'Космонавт', 'Motherland', 'Квартира 19', 'Nikola Melnikov', 'Село', 'ХИТ FM', 'Русский репортер', 'Apple Music', 'Собака', 'Amazon', 'Яндекс.Музыка', 'ВКонтакте', 'НИУ ВШЭ', 'Зал ожидание', 'Sputnik', 'Зал Ожидание WEBLINK', 'Творческое объединение \"Самое Большое Простое Число', 'Polymedia', 'iTunes', 'YouTube Music Hotlist', 'Vinyla', 'ГМИИ имя. Пушкин', 'Сноб', 'Слова', 'InStyle Man', 'Бочка', 'Союз', 'ЦВЗ \"Манеж\"', 'Spotify', 'App', 'Race to Space', 'Rocks Cafe', 'OP-1', 'Музей Москва', '16 Тонны', 'Vimeo\\u200b', 'Кассиопеи', 'СКОРО 003', 'FEST', 'RED', 'Бурятская государственная филармония', 'Oh My', 'Центр', 'Pioneerball', 'Кружок', 'Дружба', 'Custom House', 'Театр', 'Вера', 'Jackethat', 'EP', 'Снегири', 'ПКиО «Сокольники', 'Солянка', 'Marksbar', 'Цоколь', 'Енисей', 'YouTube', 'Contour', 'ArteFAQ', 'Sentrum WEBLINK', 'DaDa', 'Colta.ru', 'Blum', 'Rolling Stone', 'WEBLINK/ Ура!', 'Red Club', 'ИЗО', 'Электротеатр', '103,4 FM', 'Наадя', 'ТАСС” (WEBLINK)', 'Суперкит', 'Правда', 'Эрарта', 'The Calvert Journal', 'WEBLINK ph USERTAG', 'Стрелка', 'Первый', 'Simple Symmetry', 'Guardian', 'Луна парк', 'Dreampro', 'Guvera', 'SLAVA', 'Adrenaline Stadium', 'Vinylbox', 'Театро', 'Сокольники', '44', 'Галерея', 'МЕГА', 'Eventsupport', 'СПБЧ Оркестр', 'Спутник', 'Google', 'Медуза', 'Rave Smith', 'Marks  WEBLINK', 'Музей уличное искусство', 'Dusche', 'Известия 25/5', 'Chikiss', 'Lenovo', 'Известия', 'Coub', 'Lynch', 'Fizzarum', 'Cannibal Corpse', 'Дом Культура', 'Bosco Fresh Fest', 'Sgt', 'YEAH', 'Новосибирский академгородке', 'Премьера', 'Red WEBLINK', 'YouTubeMusic', 'Танцплощадка', 'Порт Севкабель', 'Bosco Fresh', 'Библионочь', 'Lana Del Rey\\ufeff', 'СОЛЯНКА', 'Звезда', 'Фонтанка', 'Noor Bar', 'Оркестр \"Дружба', 'Кафе Artefaq', '@Мастерская', 'VINYLBOX', 'USERTAGНижний НовгородUSERTAG', 'Follow Me', 'Е! WEBLINK', 'Филармонии', 'SYNTAX', 'Пикник', 'Афиша-Волна', 'Meduza\\u200b', 'SBP', 'Rock Club', 'SPIN Music Service', 'Marks WEBLINK', 'Саша-бар', 'GooglePlay', 'СБПЧ - Секрет', 'Музей современное искусство', 'Hype Machine', 'MISHKA', 'Barents Spektakel', 'George Best', 'Подаривший жизнь', 'Финляндский вокзал', 'Бутылка', 'PERMM!', 'Powerhouse WEBLINK', 'Custom house (WEBLINK)', 'Mishka', 'Стереолето', 'Красноярский Музейный Центр', 'Яндекс', 'ВСЕ!', 'Бухарест', 'OID', 'OpenSpace.ru', 'Sentrum', 'Музей Эрарт', 'Red', 'Baltcom', 'Мегаполис', 'Пес и группа', 'LBF', 'Кап', 'Москва 24', 'Известия Hall', 'Б/У', 'Noize MC', 'Дом печать', 'Femi Koya', 'Яндекс. Музыка', 'ТЦ \"Галерея'}\n"
     ]
    }
   ],
   "source": [
    "print(organizations)"
   ]
  },
  {
   "cell_type": "markdown",
   "metadata": {},
   "source": [
    "Да, мы видим, что результаты можно и нужно подчистить: удалить кавычки, смайлики, лишние знаки..."
   ]
  },
  {
   "cell_type": "markdown",
   "metadata": {},
   "source": [
    "## 5. Sentiment analysis\n",
    "\n",
    "![](https://camo.githubusercontent.com/8aa4db250051d2819683668ad27cf90862c644e2/68747470733a2f2f692e696d6775722e636f6d2f754c4d5750754c2e706e67)\n",
    "\n",
    "https://github.com/bureaucratic-labs/dostoevsky"
   ]
  },
  {
   "cell_type": "markdown",
   "metadata": {},
   "source": [
    "Библиотека классифицирует текст на 5 категорий:\n",
    "\n",
    "* Негативное настроение; \n",
    "* Позитивное настроение;\n",
    "* Нейтральное поведение;\n",
    "* Речевой акт (формальные поздравления, благодарственные и поздравительные посты);\n",
    "* Класс «пропустить» для неясных случаев."
   ]
  },
  {
   "cell_type": "code",
   "execution_count": 31,
   "metadata": {},
   "outputs": [
    {
     "name": "stdout",
     "output_type": "stream",
     "text": [
      "Collecting dostoevsky\n",
      "  Downloading dostoevsky-0.5.0-py3-none-any.whl (10 kB)\n",
      "Collecting fasttext==0.9.1\n",
      "  Downloading fasttext-0.9.1.tar.gz (57 kB)\n",
      "\u001b[K     |████████████████████████████████| 57 kB 246 kB/s eta 0:00:01\n",
      "\u001b[?25hCollecting scikit-learn==0.22.1\n",
      "  Downloading scikit_learn-0.22.1-cp38-cp38-macosx_10_9_x86_64.whl (7.0 MB)\n",
      "\u001b[K     |████████████████████████████████| 7.0 MB 288 kB/s eta 0:00:01\n",
      "\u001b[?25hCollecting razdel==0.4.0\n",
      "  Downloading razdel-0.4.0-py2.py3-none-any.whl (20 kB)\n",
      "Collecting russian-tagsets==0.6\n",
      "  Downloading russian-tagsets-0.6.tar.gz (23 kB)\n",
      "Collecting pymorphy2==0.8\n",
      "  Downloading pymorphy2-0.8-py2.py3-none-any.whl (46 kB)\n",
      "\u001b[K     |████████████████████████████████| 46 kB 134 kB/s eta 0:00:01\n",
      "\u001b[?25hCollecting pytest==5.3.5\n",
      "  Downloading pytest-5.3.5-py3-none-any.whl (235 kB)\n",
      "\u001b[K     |████████████████████████████████| 235 kB 142 kB/s eta 0:00:01\n",
      "\u001b[?25hCollecting b-labs-models==2017.8.22\n",
      "  Downloading b_labs_models-2017.8.22-py2.py3-none-any.whl (3.0 MB)\n",
      "\u001b[K     |████████████████████████████████| 3.0 MB 265 kB/s eta 0:00:01\n",
      "\u001b[?25hRequirement already satisfied: pybind11>=2.2 in /Users/tatsianamelnikava/opt/anaconda3/lib/python3.8/site-packages (from fasttext==0.9.1->dostoevsky) (2.5.0)\n",
      "Requirement already satisfied: setuptools>=0.7.0 in /Users/tatsianamelnikava/opt/anaconda3/lib/python3.8/site-packages (from fasttext==0.9.1->dostoevsky) (49.2.0.post20200714)\n",
      "Requirement already satisfied: numpy in /Users/tatsianamelnikava/opt/anaconda3/lib/python3.8/site-packages (from fasttext==0.9.1->dostoevsky) (1.18.5)\n",
      "Requirement already satisfied: joblib>=0.11 in /Users/tatsianamelnikava/opt/anaconda3/lib/python3.8/site-packages (from scikit-learn==0.22.1->dostoevsky) (0.16.0)\n",
      "Requirement already satisfied: scipy>=0.17.0 in /Users/tatsianamelnikava/opt/anaconda3/lib/python3.8/site-packages (from scikit-learn==0.22.1->dostoevsky) (1.5.0)\n",
      "Requirement already satisfied: docopt>=0.6 in /Users/tatsianamelnikava/opt/anaconda3/lib/python3.8/site-packages (from pymorphy2==0.8->dostoevsky) (0.6.2)\n",
      "Collecting pymorphy2-dicts<3.0,>=2.4\n",
      "  Downloading pymorphy2_dicts-2.4.393442.3710985-py2.py3-none-any.whl (7.1 MB)\n",
      "\u001b[K     |████████████████████████████████| 7.1 MB 238 kB/s eta 0:00:01\n",
      "\u001b[?25hRequirement already satisfied: dawg-python>=0.7 in /Users/tatsianamelnikava/opt/anaconda3/lib/python3.8/site-packages (from pymorphy2==0.8->dostoevsky) (0.7.2)\n",
      "Requirement already satisfied: py>=1.5.0 in /Users/tatsianamelnikava/opt/anaconda3/lib/python3.8/site-packages (from pytest==5.3.5->dostoevsky) (1.9.0)\n",
      "Requirement already satisfied: wcwidth in /Users/tatsianamelnikava/opt/anaconda3/lib/python3.8/site-packages (from pytest==5.3.5->dostoevsky) (0.2.5)\n",
      "Requirement already satisfied: attrs>=17.4.0 in /Users/tatsianamelnikava/opt/anaconda3/lib/python3.8/site-packages (from pytest==5.3.5->dostoevsky) (19.3.0)\n",
      "Requirement already satisfied: more-itertools>=4.0.0 in /Users/tatsianamelnikava/opt/anaconda3/lib/python3.8/site-packages (from pytest==5.3.5->dostoevsky) (8.4.0)\n",
      "Requirement already satisfied: packaging in /Users/tatsianamelnikava/opt/anaconda3/lib/python3.8/site-packages (from pytest==5.3.5->dostoevsky) (20.4)\n",
      "Requirement already satisfied: pluggy<1.0,>=0.12 in /Users/tatsianamelnikava/opt/anaconda3/lib/python3.8/site-packages (from pytest==5.3.5->dostoevsky) (0.13.1)\n",
      "Collecting python-crfsuite\n",
      "  Downloading python_crfsuite-0.9.7-cp38-cp38-macosx_10_13_x86_64.whl (186 kB)\n",
      "\u001b[K     |████████████████████████████████| 186 kB 117 kB/s eta 0:00:01\n",
      "\u001b[?25hRequirement already satisfied: pyparsing>=2.0.2 in /Users/tatsianamelnikava/opt/anaconda3/lib/python3.8/site-packages (from packaging->pytest==5.3.5->dostoevsky) (2.4.7)\n",
      "Requirement already satisfied: six in /Users/tatsianamelnikava/opt/anaconda3/lib/python3.8/site-packages (from packaging->pytest==5.3.5->dostoevsky) (1.15.0)\n",
      "Building wheels for collected packages: fasttext, russian-tagsets\n",
      "  Building wheel for fasttext (setup.py) ... \u001b[?25lerror\n",
      "\u001b[31m  ERROR: Command errored out with exit status 1:\n",
      "   command: /Users/tatsianamelnikava/opt/anaconda3/bin/python -u -c 'import sys, setuptools, tokenize; sys.argv[0] = '\"'\"'/private/var/folders/v3/zvwcsr7x3d95ngc8jwfrd4vc0000gn/T/pip-install-ckg90b1a/fasttext/setup.py'\"'\"'; __file__='\"'\"'/private/var/folders/v3/zvwcsr7x3d95ngc8jwfrd4vc0000gn/T/pip-install-ckg90b1a/fasttext/setup.py'\"'\"';f=getattr(tokenize, '\"'\"'open'\"'\"', open)(__file__);code=f.read().replace('\"'\"'\\r\\n'\"'\"', '\"'\"'\\n'\"'\"');f.close();exec(compile(code, __file__, '\"'\"'exec'\"'\"'))' bdist_wheel -d /private/var/folders/v3/zvwcsr7x3d95ngc8jwfrd4vc0000gn/T/pip-wheel-0yq7lrhm\n",
      "       cwd: /private/var/folders/v3/zvwcsr7x3d95ngc8jwfrd4vc0000gn/T/pip-install-ckg90b1a/fasttext/\n",
      "  Complete output (58 lines):\n",
      "  running bdist_wheel\n",
      "  running build\n",
      "  running build_py\n",
      "  creating build\n",
      "  creating build/lib.macosx-10.9-x86_64-3.8\n",
      "  creating build/lib.macosx-10.9-x86_64-3.8/fasttext\n",
      "  copying python/fasttext_module/fasttext/__init__.py -> build/lib.macosx-10.9-x86_64-3.8/fasttext\n",
      "  copying python/fasttext_module/fasttext/FastText.py -> build/lib.macosx-10.9-x86_64-3.8/fasttext\n",
      "  creating build/lib.macosx-10.9-x86_64-3.8/fasttext/util\n",
      "  copying python/fasttext_module/fasttext/util/util.py -> build/lib.macosx-10.9-x86_64-3.8/fasttext/util\n",
      "  copying python/fasttext_module/fasttext/util/__init__.py -> build/lib.macosx-10.9-x86_64-3.8/fasttext/util\n",
      "  creating build/lib.macosx-10.9-x86_64-3.8/fasttext/tests\n",
      "  copying python/fasttext_module/fasttext/tests/test_script.py -> build/lib.macosx-10.9-x86_64-3.8/fasttext/tests\n",
      "  copying python/fasttext_module/fasttext/tests/__init__.py -> build/lib.macosx-10.9-x86_64-3.8/fasttext/tests\n",
      "  copying python/fasttext_module/fasttext/tests/test_configurations.py -> build/lib.macosx-10.9-x86_64-3.8/fasttext/tests\n",
      "  running build_ext\n",
      "  creating var\n",
      "  creating var/folders\n",
      "  creating var/folders/v3\n",
      "  creating var/folders/v3/zvwcsr7x3d95ngc8jwfrd4vc0000gn\n",
      "  creating var/folders/v3/zvwcsr7x3d95ngc8jwfrd4vc0000gn/T\n",
      "  gcc -Wno-unused-result -Wsign-compare -Wunreachable-code -DNDEBUG -g -fwrapv -O3 -Wall -Wstrict-prototypes -I/Users/tatsianamelnikava/opt/anaconda3/include -arch x86_64 -I/Users/tatsianamelnikava/opt/anaconda3/include -arch x86_64 -I/Users/tatsianamelnikava/opt/anaconda3/include/python3.8 -c /var/folders/v3/zvwcsr7x3d95ngc8jwfrd4vc0000gn/T/tmphhz5l8h9.cpp -o var/folders/v3/zvwcsr7x3d95ngc8jwfrd4vc0000gn/T/tmphhz5l8h9.o -stdlib=libc++\n",
      "  xcode-select: note: no developer tools were found at '/Applications/Xcode.app', requesting install. Choose an option in the dialog to download the command line developer tools.\n",
      "  gcc -Wno-unused-result -Wsign-compare -Wunreachable-code -DNDEBUG -g -fwrapv -O3 -Wall -Wstrict-prototypes -I/Users/tatsianamelnikava/opt/anaconda3/include -arch x86_64 -I/Users/tatsianamelnikava/opt/anaconda3/include -arch x86_64 -I/Users/tatsianamelnikava/opt/anaconda3/include/python3.8 -c /var/folders/v3/zvwcsr7x3d95ngc8jwfrd4vc0000gn/T/tmpoigv4nep.cpp -o var/folders/v3/zvwcsr7x3d95ngc8jwfrd4vc0000gn/T/tmpoigv4nep.o -stdlib=libc++ -mmacosx-version-min=10.7\n",
      "  xcode-select: note: no developer tools were found at '/Applications/Xcode.app', requesting install. Choose an option in the dialog to download the command line developer tools.\n",
      "  Traceback (most recent call last):\n",
      "    File \"<string>\", line 1, in <module>\n",
      "    File \"/private/var/folders/v3/zvwcsr7x3d95ngc8jwfrd4vc0000gn/T/pip-install-ckg90b1a/fasttext/setup.py\", line 168, in <module>\n",
      "      setup(\n",
      "    File \"/Users/tatsianamelnikava/opt/anaconda3/lib/python3.8/site-packages/setuptools/__init__.py\", line 165, in setup\n",
      "      return distutils.core.setup(**attrs)\n",
      "    File \"/Users/tatsianamelnikava/opt/anaconda3/lib/python3.8/distutils/core.py\", line 148, in setup\n",
      "      dist.run_commands()\n",
      "    File \"/Users/tatsianamelnikava/opt/anaconda3/lib/python3.8/distutils/dist.py\", line 966, in run_commands\n",
      "      self.run_command(cmd)\n",
      "    File \"/Users/tatsianamelnikava/opt/anaconda3/lib/python3.8/distutils/dist.py\", line 985, in run_command\n",
      "      cmd_obj.run()\n",
      "    File \"/Users/tatsianamelnikava/opt/anaconda3/lib/python3.8/site-packages/wheel/bdist_wheel.py\", line 223, in run\n",
      "      self.run_command('build')\n",
      "    File \"/Users/tatsianamelnikava/opt/anaconda3/lib/python3.8/distutils/cmd.py\", line 313, in run_command\n",
      "      self.distribution.run_command(command)\n",
      "    File \"/Users/tatsianamelnikava/opt/anaconda3/lib/python3.8/distutils/dist.py\", line 985, in run_command\n",
      "      cmd_obj.run()\n",
      "    File \"/Users/tatsianamelnikava/opt/anaconda3/lib/python3.8/distutils/command/build.py\", line 135, in run\n",
      "      self.run_command(cmd_name)\n",
      "    File \"/Users/tatsianamelnikava/opt/anaconda3/lib/python3.8/distutils/cmd.py\", line 313, in run_command\n",
      "      self.distribution.run_command(command)\n",
      "    File \"/Users/tatsianamelnikava/opt/anaconda3/lib/python3.8/distutils/dist.py\", line 985, in run_command\n",
      "      cmd_obj.run()\n",
      "    File \"/Users/tatsianamelnikava/opt/anaconda3/lib/python3.8/site-packages/setuptools/command/build_ext.py\", line 87, in run\n",
      "      _build_ext.run(self)\n",
      "    File \"/Users/tatsianamelnikava/opt/anaconda3/lib/python3.8/site-packages/Cython/Distutils/old_build_ext.py\", line 186, in run\n",
      "      _build_ext.build_ext.run(self)\n",
      "    File \"/Users/tatsianamelnikava/opt/anaconda3/lib/python3.8/distutils/command/build_ext.py\", line 340, in run\n",
      "      self.build_extensions()\n",
      "    File \"/private/var/folders/v3/zvwcsr7x3d95ngc8jwfrd4vc0000gn/T/pip-install-ckg90b1a/fasttext/setup.py\", line 131, in build_extensions\n",
      "      raise RuntimeError(\n",
      "  RuntimeError: libc++ is needed! Failed to compile with -stdlib=libc++ -mmacosx-version-min=10.7 and -stdlib=libc++.\n",
      "  ----------------------------------------\u001b[0m\n",
      "\u001b[31m  ERROR: Failed building wheel for fasttext\u001b[0m\n",
      "\u001b[?25h  Running setup.py clean for fasttext\n"
     ]
    },
    {
     "name": "stdout",
     "output_type": "stream",
     "text": [
      "  Building wheel for russian-tagsets (setup.py) ... \u001b[?25ldone\n",
      "\u001b[?25h  Created wheel for russian-tagsets: filename=russian_tagsets-0.6-py3-none-any.whl size=24635 sha256=e25b6aecadab62e7e5e09af7f9cc84f5a7ac47a8a1fc2a97b0e6d15f8396c103\n",
      "  Stored in directory: /Users/tatsianamelnikava/Library/Caches/pip/wheels/12/2e/54/71c28ef06e79d9bdd7843ad80473900615056abb3261544039\n",
      "Successfully built russian-tagsets\n",
      "Failed to build fasttext\n",
      "\u001b[31mERROR: natasha 1.3.0 has requirement razdel>=0.5.0, but you'll have razdel 0.4.0 which is incompatible.\u001b[0m\n",
      "Installing collected packages: fasttext, scikit-learn, razdel, russian-tagsets, pymorphy2-dicts, pymorphy2, pytest, python-crfsuite, b-labs-models, dostoevsky\n",
      "    Running setup.py install for fasttext ... \u001b[?25lerror\n",
      "\u001b[31m    ERROR: Command errored out with exit status 1:\n",
      "     command: /Users/tatsianamelnikava/opt/anaconda3/bin/python -u -c 'import sys, setuptools, tokenize; sys.argv[0] = '\"'\"'/private/var/folders/v3/zvwcsr7x3d95ngc8jwfrd4vc0000gn/T/pip-install-ckg90b1a/fasttext/setup.py'\"'\"'; __file__='\"'\"'/private/var/folders/v3/zvwcsr7x3d95ngc8jwfrd4vc0000gn/T/pip-install-ckg90b1a/fasttext/setup.py'\"'\"';f=getattr(tokenize, '\"'\"'open'\"'\"', open)(__file__);code=f.read().replace('\"'\"'\\r\\n'\"'\"', '\"'\"'\\n'\"'\"');f.close();exec(compile(code, __file__, '\"'\"'exec'\"'\"'))' install --record /private/var/folders/v3/zvwcsr7x3d95ngc8jwfrd4vc0000gn/T/pip-record-0v2g2r5k/install-record.txt --single-version-externally-managed --compile --install-headers /Users/tatsianamelnikava/opt/anaconda3/include/python3.8/fasttext\n",
      "         cwd: /private/var/folders/v3/zvwcsr7x3d95ngc8jwfrd4vc0000gn/T/pip-install-ckg90b1a/fasttext/\n",
      "    Complete output (55 lines):\n",
      "    running install\n",
      "    running build\n",
      "    running build_py\n",
      "    creating build\n",
      "    creating build/lib.macosx-10.9-x86_64-3.8\n",
      "    creating build/lib.macosx-10.9-x86_64-3.8/fasttext\n",
      "    copying python/fasttext_module/fasttext/__init__.py -> build/lib.macosx-10.9-x86_64-3.8/fasttext\n",
      "    copying python/fasttext_module/fasttext/FastText.py -> build/lib.macosx-10.9-x86_64-3.8/fasttext\n",
      "    creating build/lib.macosx-10.9-x86_64-3.8/fasttext/util\n",
      "    copying python/fasttext_module/fasttext/util/util.py -> build/lib.macosx-10.9-x86_64-3.8/fasttext/util\n",
      "    copying python/fasttext_module/fasttext/util/__init__.py -> build/lib.macosx-10.9-x86_64-3.8/fasttext/util\n",
      "    creating build/lib.macosx-10.9-x86_64-3.8/fasttext/tests\n",
      "    copying python/fasttext_module/fasttext/tests/test_script.py -> build/lib.macosx-10.9-x86_64-3.8/fasttext/tests\n",
      "    copying python/fasttext_module/fasttext/tests/__init__.py -> build/lib.macosx-10.9-x86_64-3.8/fasttext/tests\n",
      "    copying python/fasttext_module/fasttext/tests/test_configurations.py -> build/lib.macosx-10.9-x86_64-3.8/fasttext/tests\n",
      "    running build_ext\n",
      "    gcc -Wno-unused-result -Wsign-compare -Wunreachable-code -DNDEBUG -g -fwrapv -O3 -Wall -Wstrict-prototypes -I/Users/tatsianamelnikava/opt/anaconda3/include -arch x86_64 -I/Users/tatsianamelnikava/opt/anaconda3/include -arch x86_64 -I/Users/tatsianamelnikava/opt/anaconda3/include/python3.8 -c /var/folders/v3/zvwcsr7x3d95ngc8jwfrd4vc0000gn/T/tmp7u9tiu72.cpp -o var/folders/v3/zvwcsr7x3d95ngc8jwfrd4vc0000gn/T/tmp7u9tiu72.o -stdlib=libc++\n",
      "    xcode-select: note: no developer tools were found at '/Applications/Xcode.app', requesting install. Choose an option in the dialog to download the command line developer tools.\n",
      "    gcc -Wno-unused-result -Wsign-compare -Wunreachable-code -DNDEBUG -g -fwrapv -O3 -Wall -Wstrict-prototypes -I/Users/tatsianamelnikava/opt/anaconda3/include -arch x86_64 -I/Users/tatsianamelnikava/opt/anaconda3/include -arch x86_64 -I/Users/tatsianamelnikava/opt/anaconda3/include/python3.8 -c /var/folders/v3/zvwcsr7x3d95ngc8jwfrd4vc0000gn/T/tmp54hmopbp.cpp -o var/folders/v3/zvwcsr7x3d95ngc8jwfrd4vc0000gn/T/tmp54hmopbp.o -stdlib=libc++ -mmacosx-version-min=10.7\n",
      "    xcode-select: note: no developer tools were found at '/Applications/Xcode.app', requesting install. Choose an option in the dialog to download the command line developer tools.\n",
      "    Traceback (most recent call last):\n",
      "      File \"<string>\", line 1, in <module>\n",
      "      File \"/private/var/folders/v3/zvwcsr7x3d95ngc8jwfrd4vc0000gn/T/pip-install-ckg90b1a/fasttext/setup.py\", line 168, in <module>\n",
      "        setup(\n",
      "      File \"/Users/tatsianamelnikava/opt/anaconda3/lib/python3.8/site-packages/setuptools/__init__.py\", line 165, in setup\n",
      "        return distutils.core.setup(**attrs)\n",
      "      File \"/Users/tatsianamelnikava/opt/anaconda3/lib/python3.8/distutils/core.py\", line 148, in setup\n",
      "        dist.run_commands()\n",
      "      File \"/Users/tatsianamelnikava/opt/anaconda3/lib/python3.8/distutils/dist.py\", line 966, in run_commands\n",
      "        self.run_command(cmd)\n",
      "      File \"/Users/tatsianamelnikava/opt/anaconda3/lib/python3.8/distutils/dist.py\", line 985, in run_command\n",
      "        cmd_obj.run()\n",
      "      File \"/Users/tatsianamelnikava/opt/anaconda3/lib/python3.8/site-packages/setuptools/command/install.py\", line 61, in run\n",
      "        return orig.install.run(self)\n",
      "      File \"/Users/tatsianamelnikava/opt/anaconda3/lib/python3.8/distutils/command/install.py\", line 545, in run\n",
      "        self.run_command('build')\n",
      "      File \"/Users/tatsianamelnikava/opt/anaconda3/lib/python3.8/distutils/cmd.py\", line 313, in run_command\n",
      "        self.distribution.run_command(command)\n",
      "      File \"/Users/tatsianamelnikava/opt/anaconda3/lib/python3.8/distutils/dist.py\", line 985, in run_command\n",
      "        cmd_obj.run()\n",
      "      File \"/Users/tatsianamelnikava/opt/anaconda3/lib/python3.8/distutils/command/build.py\", line 135, in run\n",
      "        self.run_command(cmd_name)\n",
      "      File \"/Users/tatsianamelnikava/opt/anaconda3/lib/python3.8/distutils/cmd.py\", line 313, in run_command\n",
      "        self.distribution.run_command(command)\n",
      "      File \"/Users/tatsianamelnikava/opt/anaconda3/lib/python3.8/distutils/dist.py\", line 985, in run_command\n",
      "        cmd_obj.run()\n",
      "      File \"/Users/tatsianamelnikava/opt/anaconda3/lib/python3.8/site-packages/setuptools/command/build_ext.py\", line 87, in run\n",
      "        _build_ext.run(self)\n",
      "      File \"/Users/tatsianamelnikava/opt/anaconda3/lib/python3.8/site-packages/Cython/Distutils/old_build_ext.py\", line 186, in run\n",
      "        _build_ext.build_ext.run(self)\n",
      "      File \"/Users/tatsianamelnikava/opt/anaconda3/lib/python3.8/distutils/command/build_ext.py\", line 340, in run\n",
      "        self.build_extensions()\n",
      "      File \"/private/var/folders/v3/zvwcsr7x3d95ngc8jwfrd4vc0000gn/T/pip-install-ckg90b1a/fasttext/setup.py\", line 131, in build_extensions\n",
      "        raise RuntimeError(\n",
      "    RuntimeError: libc++ is needed! Failed to compile with -stdlib=libc++ -mmacosx-version-min=10.7 and -stdlib=libc++.\n",
      "    ----------------------------------------\u001b[0m\n",
      "\u001b[31mERROR: Command errored out with exit status 1: /Users/tatsianamelnikava/opt/anaconda3/bin/python -u -c 'import sys, setuptools, tokenize; sys.argv[0] = '\"'\"'/private/var/folders/v3/zvwcsr7x3d95ngc8jwfrd4vc0000gn/T/pip-install-ckg90b1a/fasttext/setup.py'\"'\"'; __file__='\"'\"'/private/var/folders/v3/zvwcsr7x3d95ngc8jwfrd4vc0000gn/T/pip-install-ckg90b1a/fasttext/setup.py'\"'\"';f=getattr(tokenize, '\"'\"'open'\"'\"', open)(__file__);code=f.read().replace('\"'\"'\\r\\n'\"'\"', '\"'\"'\\n'\"'\"');f.close();exec(compile(code, __file__, '\"'\"'exec'\"'\"'))' install --record /private/var/folders/v3/zvwcsr7x3d95ngc8jwfrd4vc0000gn/T/pip-record-0v2g2r5k/install-record.txt --single-version-externally-managed --compile --install-headers /Users/tatsianamelnikava/opt/anaconda3/include/python3.8/fasttext Check the logs for full command output.\u001b[0m\n",
      "\u001b[?25h"
     ]
    }
   ],
   "source": [
    "!pip install dostoevsky"
   ]
  },
  {
   "cell_type": "code",
   "execution_count": 32,
   "metadata": {},
   "outputs": [
    {
     "name": "stdout",
     "output_type": "stream",
     "text": [
      "/Users/tatsianamelnikava/opt/anaconda3/bin/python: No module named dostoevsky\r\n"
     ]
    }
   ],
   "source": [
    "!python -m dostoevsky download fasttext-social-network-model"
   ]
  },
  {
   "cell_type": "code",
   "execution_count": 33,
   "metadata": {},
   "outputs": [
    {
     "ename": "ModuleNotFoundError",
     "evalue": "No module named 'dostoevsky'",
     "output_type": "error",
     "traceback": [
      "\u001b[0;31m---------------------------------------------------------------------------\u001b[0m",
      "\u001b[0;31mModuleNotFoundError\u001b[0m                       Traceback (most recent call last)",
      "\u001b[0;32m<ipython-input-33-dd76f6a4697f>\u001b[0m in \u001b[0;36m<module>\u001b[0;34m\u001b[0m\n\u001b[0;32m----> 1\u001b[0;31m \u001b[0;32mfrom\u001b[0m \u001b[0mdostoevsky\u001b[0m\u001b[0;34m.\u001b[0m\u001b[0mtokenization\u001b[0m \u001b[0;32mimport\u001b[0m \u001b[0mRegexTokenizer\u001b[0m\u001b[0;34m\u001b[0m\u001b[0;34m\u001b[0m\u001b[0m\n\u001b[0m\u001b[1;32m      2\u001b[0m \u001b[0;32mfrom\u001b[0m \u001b[0mdostoevsky\u001b[0m\u001b[0;34m.\u001b[0m\u001b[0mmodels\u001b[0m \u001b[0;32mimport\u001b[0m \u001b[0mFastTextSocialNetworkModel\u001b[0m\u001b[0;34m\u001b[0m\u001b[0;34m\u001b[0m\u001b[0m\n",
      "\u001b[0;31mModuleNotFoundError\u001b[0m: No module named 'dostoevsky'"
     ]
    }
   ],
   "source": [
    "from dostoevsky.tokenization import RegexTokenizer\n",
    "from dostoevsky.models import FastTextSocialNetworkModel"
   ]
  },
  {
   "cell_type": "code",
   "execution_count": null,
   "metadata": {},
   "outputs": [],
   "source": [
    "model = FastTextSocialNetworkModel(tokenizer=RegexTokenizer())"
   ]
  },
  {
   "cell_type": "code",
   "execution_count": null,
   "metadata": {},
   "outputs": [],
   "source": [
    "messages = [\n",
    "    'привет',\n",
    "    'я люблю тебя!!',\n",
    "    'малолетние дебилы'\n",
    "]\n",
    "\n",
    "results = model.predict(messages)\n",
    "\n",
    "for message, sentiment in zip(messages, results):\n",
    "    print(message, '->', sentiment)"
   ]
  },
  {
   "cell_type": "markdown",
   "metadata": {},
   "source": [
    "оооокей, а давайте посмотрим на наши тексты:"
   ]
  },
  {
   "cell_type": "code",
   "execution_count": null,
   "metadata": {},
   "outputs": [],
   "source": [
    "text = \"\"\"13 сентября будем ходить ходуном. Прямо во дворе Пауэрхауса. Всё, как обычно, только соскучившись. Новые песни, старые песни. Прыжки и кувырки. Радость и смех.\n",
    "Такое надо в корне пресекать!\n",
    "Билеты: https://sbp4band.ticketscloud.org\n",
    "\n",
    "Пожалуйста, планируйте приобретение билетов заранее. Высока вероятность, что продажа на входе осуществляться не будет\"\"\""
   ]
  },
  {
   "cell_type": "code",
   "execution_count": null,
   "metadata": {},
   "outputs": [],
   "source": [
    "results = model.predict([text])"
   ]
  },
  {
   "cell_type": "code",
   "execution_count": null,
   "metadata": {},
   "outputs": [],
   "source": [
    "results[0]"
   ]
  },
  {
   "cell_type": "code",
   "execution_count": null,
   "metadata": {},
   "outputs": [],
   "source": [
    "text2 = \"\"\"Привет, друзья! Сегодня в галлерее 11.12 в USERTAG открывается выставка нашего друга художника USERTAG. \n",
    "Вокруг нашей песни “1999” Слава и режиссер Сергей Канчер создали большой проект, посвященный Первой и Второй Чеченским войнам. \n",
    "Это и тотальная инсталляция, и фотографии, и артефакты, и интервью с ветеранами обеих войн и, конечно, видео на песню “1999”, которое вы впервые сможете увидеть на выставке. \n",
    "Это попытка осмыслить жуткий опыт войны. \n",
    "Это попытка вглядеться в то, на что нельзя закрывать глаза. \n",
    "Потому что, даже если отвернуться, то, что произошло, никуда не денется.\"\"\""
   ]
  },
  {
   "cell_type": "code",
   "execution_count": null,
   "metadata": {},
   "outputs": [],
   "source": [
    "results = model.predict([text2])"
   ]
  },
  {
   "cell_type": "code",
   "execution_count": null,
   "metadata": {},
   "outputs": [],
   "source": [
    "results[0]"
   ]
  }
 ],
 "metadata": {
  "kernelspec": {
   "display_name": "Python 3",
   "language": "python",
   "name": "python3"
  },
  "language_info": {
   "codemirror_mode": {
    "name": "ipython",
    "version": 3
   },
   "file_extension": ".py",
   "mimetype": "text/x-python",
   "name": "python",
   "nbconvert_exporter": "python",
   "pygments_lexer": "ipython3",
   "version": "3.8.3"
  }
 },
 "nbformat": 4,
 "nbformat_minor": 2
}
